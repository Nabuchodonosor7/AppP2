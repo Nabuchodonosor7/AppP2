{
 "cells": [
  {
   "cell_type": "markdown",
   "metadata": {},
   "source": [
    "# Notebook Etape 3 - Système de recommendations / MachineLearning."
   ]
  },
  {
   "cell_type": "code",
   "execution_count": 37,
   "metadata": {},
   "outputs": [],
   "source": [
    "import pandas as pd\n",
    "import unicodedata\n",
    "from sklearn.neighbors import NearestNeighbors\n",
    "from sklearn.preprocessing import StandardScaler"
   ]
  },
  {
   "cell_type": "markdown",
   "metadata": {},
   "source": [
    "#### Import CSV de la Sélection de films :"
   ]
  },
  {
   "cell_type": "code",
   "execution_count": 38,
   "metadata": {},
   "outputs": [],
   "source": [
    "DF = pd.read_csv(r'C:\\Users\\33631\\Documents\\Export_CSV\\Notebook_Etape_1_Terminado.csv', sep=',')"
   ]
  },
  {
   "cell_type": "markdown",
   "metadata": {},
   "source": [
    "### 1. Préparation de la DataFrame au Machine Learning."
   ]
  },
  {
   "cell_type": "code",
   "execution_count": 39,
   "metadata": {},
   "outputs": [],
   "source": [
    "DF[\"genres\"] = DF[\"genres\"].str.split(\",\")                      # Dissociation des genres en catégories uniques\n",
    "Ex = DF.explode('genres')\n",
    "GenreF = pd.concat([Ex['genres'].str.get_dummies()],axis=1)     # Création d'une nouvelle DF avec chaque genre détaillé dans sa colonne respective\n",
    "GenreF = GenreF.groupby(GenreF.index).sum() \n",
    "DFM = pd.concat([DF, GenreF],axis=1)                            # Ajout des colonnes à notre DF principal\n",
    "DFM1 = DFM.drop(columns=['actor', 'director'])                  # Tri des colonnes superflues\n",
    "DFM1.dropna(subset=['startYear'], inplace=True)                 # Suppression des valeurs NaN \n",
    "DFM1.dropna(subset=['genres'], inplace=True)                    # Suppression des valeurs NaN \n",
    "DFM1['startYear'] = DFM1['startYear'].astype(int)               # Changement de type de la colonne 'startYear' en 'int'\n",
    "DFM1['titrePropre'] = DFM1['originalTitle'].str.normalize('NFKD').str.encode('ascii', errors='ignore').str.decode('utf-8').str.lower().str.replace(' ', '')\n",
    "                                                                # Création d'une colonne de primaryTitle sans accents, majuscules ou espaces\n",
    "DFM1.reset_index(drop= True, inplace = True)                    # Réinitialisation de l'index après la supression de quelques lignes de notre DF"
   ]
  },
  {
   "cell_type": "markdown",
   "metadata": {},
   "source": [
    "### 2. Standardisation des données + Application au modèle."
   ]
  },
  {
   "cell_type": "code",
   "execution_count": 40,
   "metadata": {},
   "outputs": [],
   "source": [
    "X = DFM1.select_dtypes(\"number\")                                                # Choix des valeurs numériques uniquement dans notre DF\n",
    "scaler = StandardScaler()                                                       # Appel de la fonction StandardScaler()\n",
    "scaler.fit(X)                                                                   # Application de la fonction à notre DF\n",
    "X_scaled = pd.DataFrame(scaler.transform(X), index=X.index, columns=X.columns)\n",
    "modelNN = NearestNeighbors(n_neighbors=6).fit(X_scaled)                         # Application de notre DF (après standardisation) à notre modèle de ML 'NearestNeighbors'"
   ]
  },
  {
   "cell_type": "markdown",
   "metadata": {},
   "source": [
    "### 3. Automatisation du modèle."
   ]
  },
  {
   "cell_type": "code",
   "execution_count": 41,
   "metadata": {},
   "outputs": [],
   "source": [
    "def Recherche():                                                                                                                # Première fonction d'automatisation du modèle\n",
    "    pninput = input('Recherche')                                                                                                # Premier user input de recherche de film\n",
    "    pninput = unicodedata.normalize('NFKD', pninput).encode('ascii', errors='ignore').decode('utf-8').lower().replace(' ', '')  # Uniformisation de son input sans accents, majuscules, espaces\n",
    "    selectionInput = DFM1[DFM1['titrePropre'].str.contains(pninput)]\n",
    "    selectionInput2 = selectionInput[['originalTitle', 'startYear']]                                                            # Choix des colonnes sur lesquelles travailler de notre DF\n",
    "    if len(selectionInput2) == 1 :                                                                                              # Premier choix de notre modèle, s'il n'y a qu'une seule référence correspondante => return R1\n",
    "        R1 = selectionInput2.iloc[0]\n",
    "        return R1                                                                                                               # Si cas de figure 1, le modèle passe sur la deuxième fonction.\n",
    "    elif len(selectionInput2) >= 2 :                                                                                            # Deuxième choix de notre modèle, s'il y a plusieurs références correspondantes, nouvel user input\n",
    "        print(selectionInput2.set_index(pd.Index(range(1, len(selectionInput2)+1))).to_string(header=False))\n",
    "        SecInput = int(input(\"Veuillez saisir l'ID du film correspondant à votre recherche :\"))                                 # Deuxième user input afin de préciser le bon film recherché par son numéro d'index affiché\n",
    "        R1 = selectionInput2.iloc[SecInput-1]\n",
    "        return R1                                                                                                               # Si cas de figure 2, le modèle passe sur la deuxième fonction.\n",
    "    else :\n",
    "        print(\"Navré, nous n'avons trouvé aucune référence correspondante\")                                                     # Sinon le modèle s'arrête là.\n",
    "        return None\n",
    "\n",
    "# ---------------------------------------------------------------------------------------------------------------------------- #\n",
    "\n",
    "def Recommandation():                                                                                                           # Deuxième fonction d'automatisation du modèle\n",
    "    R1 = Recherche()                                                                                                            # Rappel de la première fonction et de son résultat\n",
    "    if R1 is not None :                                                                                                         # Si un résultat existe :\n",
    "        indiv_concerne = X_scaled.loc[R1.name].to_frame().T                                                                     # Le modèle isole le titre du film choisi par l'utilisateur et prends ses valeurs comme référence \n",
    "        neigh_dist, neigh_cli = modelNN.kneighbors(indiv_concerne, n_neighbors=6)                                               # Le modèle trouve les 6 titres les plus proches (en l'incluant) en comparant les valeurs\n",
    "        cli_ressem = neigh_cli[0][1:]                                                                                           # Il les stocke dans une variable en excluant le titre de référence\n",
    "        Result = DFM1.iloc[cli_ressem]                                                                                          # Il peut nous ressortir les noms des films qui nous intéressent dans la DF initiale \n",
    "        index = pd.Index((range(1, len(Result)+1)))\n",
    "        Result = Result.set_index(index)                                                                                        # Modification de l'affichage du résultat        \n",
    "        print()\n",
    "        print(\"Vous avez selectionné :\", R1['originalTitle'], '(', R1['startYear'], ')')\n",
    "        print(\"Nous vous recommandons :\", Result[['originalTitle', 'startYear']].to_string(header=False), sep='\\n')             # Affichage du résultat \n",
    "    else :\n",
    "        pass\n"
   ]
  },
  {
   "cell_type": "markdown",
   "metadata": {},
   "source": [
    "### 4. Résultats :"
   ]
  },
  {
   "cell_type": "code",
   "execution_count": 61,
   "metadata": {},
   "outputs": [
    {
     "name": "stdout",
     "output_type": "stream",
     "text": [
      "1  Harry Potter and the Deathly Hallows: Part 2  2011\n",
      "2      Harry Potter and the Prisoner of Azkaban  2004\n",
      "3  Harry Potter and the Deathly Hallows: Part 1  2010\n",
      "4           Harry Potter and the Goblet of Fire  2005\n",
      "5         Harry Potter and the Sorcerer's Stone  2001\n",
      "6        Harry Potter and the Half-Blood Prince  2009\n",
      "7     Harry Potter and the Order of the Phoenix  2007\n",
      "8       Harry Potter and the Chamber of Secrets  2002\n",
      "\n",
      "Vous avez selectionné : Harry Potter and the Prisoner of Azkaban ( 2004 )\n",
      "Nous vous recommandons :\n",
      "1           Harry Potter and the Goblet of Fire  2005\n",
      "2       Harry Potter and the Chamber of Secrets  2002\n",
      "3  Harry Potter and the Deathly Hallows: Part 1  2010\n",
      "4         Harry Potter and the Sorcerer's Stone  2001\n",
      "5       Fantastic Beasts and Where to Find Them  2016\n"
     ]
    }
   ],
   "source": [
    "Recommandation()                                                                                                                    "
   ]
  }
 ],
 "metadata": {
  "kernelspec": {
   "display_name": "Python 3.9.7 ('base')",
   "language": "python",
   "name": "python3"
  },
  "language_info": {
   "codemirror_mode": {
    "name": "ipython",
    "version": 3
   },
   "file_extension": ".py",
   "mimetype": "text/x-python",
   "name": "python",
   "nbconvert_exporter": "python",
   "pygments_lexer": "ipython3",
   "version": "3.9.7"
  },
  "orig_nbformat": 4,
  "vscode": {
   "interpreter": {
    "hash": "cd7b9ec405898f97206d4f8fc247b4beb0b00a81dbb76e26953f13f9a8697bf5"
   }
  }
 },
 "nbformat": 4,
 "nbformat_minor": 2
}
